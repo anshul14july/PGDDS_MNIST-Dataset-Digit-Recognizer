{
 "cells": [
  {
   "cell_type": "code",
   "execution_count": 1,
   "metadata": {},
   "outputs": [],
   "source": [
    "import numpy as np\n",
    "import matplotlib.pyplot as plt\n",
    "import pandas as pd\n",
    "import scipy.io\n",
    "import warnings\n",
    "warnings.filterwarnings('ignore')"
   ]
  },
  {
   "cell_type": "markdown",
   "metadata": {},
   "source": [
    "# 1. Import data"
   ]
  },
  {
   "cell_type": "code",
   "execution_count": 38,
   "metadata": {},
   "outputs": [],
   "source": [
    "train = pd.read_csv(\"train.csv\")#.values\n",
    "test = pd.read_csv(\"test.csv\")#.values"
   ]
  },
  {
   "cell_type": "code",
   "execution_count": 39,
   "metadata": {},
   "outputs": [
    {
     "name": "stdout",
     "output_type": "stream",
     "text": [
      "(42000, 785)\n",
      "(28000, 784)\n"
     ]
    }
   ],
   "source": [
    "print(train.shape)\n",
    "print(test.shape)"
   ]
  },
  {
   "cell_type": "code",
   "execution_count": 30,
   "metadata": {},
   "outputs": [],
   "source": [
    "train = pd.DataFrame(train)\n",
    "train = train.sample(frac = .15)\n",
    "test = pd.DataFrame(test)\n",
    "test = test.sample(frac = .15)"
   ]
  },
  {
   "cell_type": "code",
   "execution_count": 31,
   "metadata": {},
   "outputs": [
    {
     "name": "stdout",
     "output_type": "stream",
     "text": [
      "(6300, 785)\n",
      "(4200, 784)\n"
     ]
    },
    {
     "data": {
      "text/plain": [
       "Index(['label', 'pixel0', 'pixel1', 'pixel2', 'pixel3', 'pixel4', 'pixel5',\n",
       "       'pixel6', 'pixel7', 'pixel8',\n",
       "       ...\n",
       "       'pixel774', 'pixel775', 'pixel776', 'pixel777', 'pixel778', 'pixel779',\n",
       "       'pixel780', 'pixel781', 'pixel782', 'pixel783'],\n",
       "      dtype='object', length=785)"
      ]
     },
     "execution_count": 31,
     "metadata": {},
     "output_type": "execute_result"
    }
   ],
   "source": [
    "print(train.shape)\n",
    "print(test.shape)\n",
    "train.columns"
   ]
  },
  {
   "cell_type": "code",
   "execution_count": 30,
   "metadata": {},
   "outputs": [
    {
     "data": {
      "text/plain": [
       "(42000, 784)"
      ]
     },
     "execution_count": 30,
     "metadata": {},
     "output_type": "execute_result"
    }
   ],
   "source": [
    "X = train.drop('label',axis = 1)\n",
    "Y = train['label']\n",
    "X.shape"
   ]
  },
  {
   "cell_type": "markdown",
   "metadata": {},
   "source": [
    "# 2. Dimensionality Reduction using PCA\n",
    "#### a. Plot graph of component vs. cumulative explained variance .\n",
    "#### This graph will help us in choosing the no of components for training our data."
   ]
  },
  {
   "cell_type": "code",
   "execution_count": 31,
   "metadata": {},
   "outputs": [],
   "source": [
    "#Importing the PCA module\n",
    "from sklearn.decomposition import PCA\n",
    "pca = PCA(svd_solver='randomized', random_state=50)"
   ]
  },
  {
   "cell_type": "code",
   "execution_count": 32,
   "metadata": {},
   "outputs": [
    {
     "data": {
      "text/plain": [
       "array([[-6.61595780e+02, -6.99311328e+02,  1.83282040e+02, ...,\n",
       "         2.00403018e-14,  2.50840534e-14,  4.06280895e-14],\n",
       "       [ 1.70145168e+03, -3.60551556e+02, -5.01805594e+02, ...,\n",
       "         4.22408244e-14, -1.25972259e-14, -1.30483980e-15],\n",
       "       [-8.86894434e+02, -2.93765782e+02,  6.71553099e+01, ...,\n",
       "         1.61808790e-14,  1.84728872e-14,  1.24328826e-14],\n",
       "       ...,\n",
       "       [ 3.36269982e+02,  9.50015280e+02, -1.68605414e+02, ...,\n",
       "         1.69545359e-15,  6.42866392e-15, -8.24873996e-16],\n",
       "       [ 3.27399392e+02,  6.20160894e+01,  6.97536401e+02, ...,\n",
       "        -1.67462453e-15, -6.85946524e-15, -2.07026628e-16],\n",
       "       [-3.64249200e+02,  4.18893026e+02,  6.28998232e+01, ...,\n",
       "         6.49917610e-15,  2.19522218e-15, -1.28747796e-15]])"
      ]
     },
     "execution_count": 32,
     "metadata": {},
     "output_type": "execute_result"
    }
   ],
   "source": [
    "#Doing the PCA on the train data\n",
    "pca.fit_transform(X)"
   ]
  },
  {
   "cell_type": "code",
   "execution_count": 33,
   "metadata": {},
   "outputs": [
    {
     "data": {
      "text/plain": [
       "array([[ 8.56060477e-17,  0.00000000e+00,  0.00000000e+00, ...,\n",
       "         0.00000000e+00,  0.00000000e+00,  0.00000000e+00],\n",
       "       [-5.24403848e-17,  1.66533454e-16,  0.00000000e+00, ...,\n",
       "         0.00000000e+00,  0.00000000e+00,  0.00000000e+00],\n",
       "       [ 3.79746669e-18, -7.97972799e-17, -1.66533454e-16, ...,\n",
       "         0.00000000e+00,  0.00000000e+00,  0.00000000e+00],\n",
       "       ...,\n",
       "       [ 0.00000000e+00,  0.00000000e+00,  0.00000000e+00, ...,\n",
       "         0.00000000e+00,  1.00000000e+00,  0.00000000e+00],\n",
       "       [-0.00000000e+00, -0.00000000e+00, -0.00000000e+00, ...,\n",
       "        -0.00000000e+00, -0.00000000e+00, -1.00000000e+00],\n",
       "       [ 9.99998589e-01,  9.06319673e-05,  6.49983994e-05, ...,\n",
       "        -0.00000000e+00, -0.00000000e+00, -0.00000000e+00]])"
      ]
     },
     "execution_count": 33,
     "metadata": {},
     "output_type": "execute_result"
    }
   ],
   "source": [
    "pca.components_"
   ]
  },
  {
   "cell_type": "code",
   "execution_count": 21,
   "metadata": {},
   "outputs": [
    {
     "data": {
      "text/html": [
       "<div>\n",
       "<style scoped>\n",
       "    .dataframe tbody tr th:only-of-type {\n",
       "        vertical-align: middle;\n",
       "    }\n",
       "\n",
       "    .dataframe tbody tr th {\n",
       "        vertical-align: top;\n",
       "    }\n",
       "\n",
       "    .dataframe thead th {\n",
       "        text-align: right;\n",
       "    }\n",
       "</style>\n",
       "<table border=\"1\" class=\"dataframe\">\n",
       "  <thead>\n",
       "    <tr style=\"text-align: right;\">\n",
       "      <th></th>\n",
       "      <th>PC1</th>\n",
       "      <th>PC2</th>\n",
       "    </tr>\n",
       "  </thead>\n",
       "  <tbody>\n",
       "    <tr>\n",
       "      <th>0</th>\n",
       "      <td>8.560605e-17</td>\n",
       "      <td>-5.244038e-17</td>\n",
       "    </tr>\n",
       "    <tr>\n",
       "      <th>1</th>\n",
       "      <td>0.000000e+00</td>\n",
       "      <td>1.665335e-16</td>\n",
       "    </tr>\n",
       "    <tr>\n",
       "      <th>2</th>\n",
       "      <td>0.000000e+00</td>\n",
       "      <td>0.000000e+00</td>\n",
       "    </tr>\n",
       "    <tr>\n",
       "      <th>3</th>\n",
       "      <td>0.000000e+00</td>\n",
       "      <td>2.775558e-17</td>\n",
       "    </tr>\n",
       "    <tr>\n",
       "      <th>4</th>\n",
       "      <td>0.000000e+00</td>\n",
       "      <td>6.938894e-18</td>\n",
       "    </tr>\n",
       "  </tbody>\n",
       "</table>\n",
       "</div>"
      ],
      "text/plain": [
       "            PC1           PC2\n",
       "0  8.560605e-17 -5.244038e-17\n",
       "1  0.000000e+00  1.665335e-16\n",
       "2  0.000000e+00  0.000000e+00\n",
       "3  0.000000e+00  2.775558e-17\n",
       "4  0.000000e+00  6.938894e-18"
      ]
     },
     "execution_count": 21,
     "metadata": {},
     "output_type": "execute_result"
    }
   ],
   "source": [
    "pcs_df = pd.DataFrame({'PC1':pca.components_[0],'PC2':pca.components_[1]})\n",
    "pcs_df.head()"
   ]
  },
  {
   "cell_type": "code",
   "execution_count": 22,
   "metadata": {},
   "outputs": [
    {
     "data": {
      "text/plain": [
       "array([9.74893769e-02, 7.16026628e-02, 6.14590336e-02, 5.37930200e-02,\n",
       "       4.89426213e-02, 4.30321399e-02, 3.27705076e-02, 2.89210317e-02,\n",
       "       2.76690235e-02, 2.34887103e-02, 2.09932543e-02, 2.05900116e-02,\n",
       "       1.70255350e-02, 1.69278702e-02, 1.58112641e-02, 1.48323962e-02,\n",
       "       1.31968789e-02, 1.28272708e-02, 1.18797614e-02, 1.15275473e-02,\n",
       "       1.07219122e-02, 1.01519930e-02, 9.64902259e-03, 9.12846068e-03,\n",
       "       8.87640859e-03, 8.38766308e-03, 8.11855855e-03, 7.77405747e-03,\n",
       "       7.40635116e-03, 6.86661489e-03, 6.57982211e-03, 6.38798611e-03,\n",
       "       5.99367016e-03, 5.88913410e-03, 5.64335178e-03, 5.40967048e-03,\n",
       "       5.09221943e-03, 4.87504936e-03, 4.75569422e-03, 4.66544724e-03,\n",
       "       4.52952464e-03, 4.44989164e-03, 4.18255277e-03, 3.97505755e-03,\n",
       "       3.84541993e-03, 3.74919479e-03, 3.61013219e-03, 3.48522166e-03,\n",
       "       3.36487802e-03, 3.20738135e-03, 3.15467117e-03, 3.09145543e-03,\n",
       "       2.93709181e-03, 2.86541339e-03, 2.80759437e-03, 2.69618435e-03,\n",
       "       2.65831383e-03, 2.56298604e-03, 2.53821090e-03, 2.46178252e-03,\n",
       "       2.39716188e-03, 2.38739578e-03, 2.27591447e-03, 2.21518444e-03,\n",
       "       2.13933611e-03, 2.06133397e-03, 2.02851149e-03, 1.95976714e-03,\n",
       "       1.93638614e-03, 1.88485334e-03, 1.86750994e-03, 1.81670044e-03,\n",
       "       1.76891254e-03, 1.72592413e-03, 1.66120849e-03, 1.63309544e-03,\n",
       "       1.60601340e-03, 1.54472396e-03, 1.46849742e-03, 1.42375935e-03,\n",
       "       1.41098458e-03, 1.40228444e-03, 1.38834819e-03, 1.35417334e-03,\n",
       "       1.32307196e-03, 1.30779914e-03, 1.29673803e-03, 1.24240433e-03,\n",
       "       1.22249140e-03, 1.19624452e-03, 1.15840263e-03, 1.13858990e-03,\n",
       "       1.12263468e-03, 1.10475151e-03, 1.08133084e-03, 1.07412608e-03,\n",
       "       1.03865632e-03, 1.03321996e-03, 1.01494630e-03, 9.99965034e-04,\n",
       "       9.74818997e-04, 9.45057663e-04, 9.38641819e-04, 9.12221022e-04,\n",
       "       9.07313503e-04, 8.88871636e-04, 8.63699685e-04, 8.44234992e-04,\n",
       "       8.35541599e-04, 8.16652064e-04, 7.87681237e-04, 7.81559589e-04,\n",
       "       7.77464583e-04, 7.71933701e-04, 7.57842341e-04, 7.50215590e-04,\n",
       "       7.34475822e-04, 7.25772099e-04, 7.15322651e-04, 7.00324985e-04,\n",
       "       6.93049551e-04, 6.85741080e-04, 6.79933115e-04, 6.65718665e-04,\n",
       "       6.56138536e-04, 6.44801786e-04, 6.35391815e-04, 6.26124921e-04,\n",
       "       6.18514205e-04, 6.05741253e-04, 6.03854818e-04, 5.91452693e-04,\n",
       "       5.85898805e-04, 5.84633227e-04, 5.75481878e-04, 5.69716770e-04,\n",
       "       5.64497121e-04, 5.53174076e-04, 5.34344674e-04, 5.25777062e-04,\n",
       "       5.21965550e-04, 5.11193757e-04, 5.05144243e-04, 4.99924977e-04,\n",
       "       4.95323722e-04, 4.92348603e-04, 4.84395053e-04, 4.76686157e-04,\n",
       "       4.74666022e-04, 4.67890879e-04, 4.65296674e-04, 4.61362258e-04,\n",
       "       4.56336500e-04, 4.51756208e-04, 4.49488582e-04, 4.41357426e-04,\n",
       "       4.38790136e-04, 4.24389337e-04, 4.20314615e-04, 4.16355388e-04,\n",
       "       4.13830324e-04, 4.07099288e-04, 3.98548359e-04, 3.94359111e-04,\n",
       "       3.94067067e-04, 3.91401338e-04, 3.81665552e-04, 3.79230943e-04,\n",
       "       3.75536313e-04, 3.73831733e-04, 3.66337737e-04, 3.63074114e-04,\n",
       "       3.59307646e-04, 3.57031988e-04, 3.53028613e-04, 3.52754592e-04,\n",
       "       3.45302385e-04, 3.43276944e-04, 3.41890978e-04, 3.39165911e-04,\n",
       "       3.34861511e-04, 3.29842492e-04, 3.25506437e-04, 3.24703554e-04,\n",
       "       3.21013848e-04, 3.20432900e-04, 3.17194700e-04, 3.16819126e-04,\n",
       "       3.10916530e-04, 3.10172960e-04, 3.06832953e-04, 3.03823171e-04,\n",
       "       2.99708860e-04, 2.98327092e-04, 2.94093162e-04, 2.93391967e-04,\n",
       "       2.92977220e-04, 2.89276406e-04, 2.84988966e-04, 2.83697252e-04,\n",
       "       2.81082198e-04, 2.76258374e-04, 2.74103534e-04, 2.71602045e-04,\n",
       "       2.67522376e-04, 2.66793948e-04, 2.62892231e-04, 2.62046588e-04,\n",
       "       2.61487226e-04, 2.58253585e-04, 2.56603941e-04, 2.55387243e-04,\n",
       "       2.54111610e-04, 2.52813861e-04, 2.50912463e-04, 2.48286117e-04,\n",
       "       2.47615906e-04, 2.44461417e-04, 2.43286700e-04, 2.40992431e-04,\n",
       "       2.40275940e-04, 2.39364452e-04, 2.38594369e-04, 2.36466045e-04,\n",
       "       2.32057655e-04, 2.30987543e-04, 2.28982689e-04, 2.27286585e-04,\n",
       "       2.25966858e-04, 2.24781908e-04, 2.20978300e-04, 2.19452970e-04,\n",
       "       2.17383853e-04, 2.15927541e-04, 2.14951024e-04, 2.13614894e-04,\n",
       "       2.11488233e-04, 2.10864069e-04, 2.08113405e-04, 2.05170657e-04,\n",
       "       2.03746234e-04, 2.03271829e-04, 2.01784402e-04, 1.99666140e-04,\n",
       "       1.97984405e-04, 1.96806855e-04, 1.94817073e-04, 1.93717714e-04,\n",
       "       1.92666851e-04, 1.92124444e-04, 1.90249869e-04, 1.88388929e-04,\n",
       "       1.86830011e-04, 1.84989673e-04, 1.84696295e-04, 1.84100838e-04,\n",
       "       1.82788107e-04, 1.82323561e-04, 1.81392213e-04, 1.79612820e-04,\n",
       "       1.76710787e-04, 1.75616351e-04, 1.74856503e-04, 1.73483732e-04,\n",
       "       1.72524134e-04, 1.71476473e-04, 1.71133230e-04, 1.68773037e-04,\n",
       "       1.68133359e-04, 1.67692755e-04, 1.66268327e-04, 1.64293501e-04,\n",
       "       1.63902711e-04, 1.63026129e-04, 1.62247316e-04, 1.60434310e-04,\n",
       "       1.60275519e-04, 1.58847778e-04, 1.58391347e-04, 1.57249091e-04,\n",
       "       1.55421237e-04, 1.54449408e-04, 1.53626081e-04, 1.51833111e-04,\n",
       "       1.50882402e-04, 1.50402146e-04, 1.49037531e-04, 1.48289379e-04,\n",
       "       1.46698235e-04, 1.45918092e-04, 1.43470327e-04, 1.43413774e-04,\n",
       "       1.42947318e-04, 1.41864032e-04, 1.41434477e-04, 1.40322317e-04,\n",
       "       1.38342618e-04, 1.37446491e-04, 1.36378533e-04, 1.35450484e-04,\n",
       "       1.35159928e-04, 1.34404079e-04, 1.33398331e-04, 1.32286985e-04,\n",
       "       1.30752860e-04, 1.29890675e-04, 1.28535326e-04, 1.27848949e-04,\n",
       "       1.26974506e-04, 1.26608300e-04, 1.25883934e-04, 1.25152668e-04,\n",
       "       1.24026915e-04, 1.22541516e-04, 1.22323565e-04, 1.21184565e-04,\n",
       "       1.20866127e-04, 1.20081813e-04, 1.19016518e-04, 1.18237887e-04,\n",
       "       1.17234394e-04, 1.15741060e-04, 1.15360173e-04, 1.14560564e-04,\n",
       "       1.13626694e-04, 1.13185761e-04, 1.11755777e-04, 1.10293511e-04,\n",
       "       1.09960628e-04, 1.09349459e-04, 1.09176791e-04, 1.08477414e-04,\n",
       "       1.07797530e-04, 1.06917463e-04, 1.06723498e-04, 1.06078717e-04,\n",
       "       1.04464449e-04, 1.04396182e-04, 1.03069185e-04, 1.02214865e-04,\n",
       "       1.01370888e-04, 1.00594605e-04, 9.97668874e-05, 9.94406703e-05,\n",
       "       9.85829071e-05, 9.70159912e-05, 9.69784480e-05, 9.62936132e-05,\n",
       "       9.46109643e-05, 9.41285257e-05, 9.30440801e-05, 9.25721602e-05,\n",
       "       9.15809295e-05, 9.10792854e-05, 9.05018130e-05, 9.00300633e-05,\n",
       "       8.96154897e-05, 8.89815850e-05, 8.83200096e-05, 8.75293892e-05,\n",
       "       8.71255281e-05, 8.58975989e-05, 8.50483843e-05, 8.50402016e-05,\n",
       "       8.46365570e-05, 8.38305712e-05, 8.27317681e-05, 8.25052090e-05,\n",
       "       8.21602774e-05, 8.08585475e-05, 7.97090483e-05, 7.90024624e-05,\n",
       "       7.83814628e-05, 7.80376415e-05, 7.74542297e-05, 7.66036440e-05,\n",
       "       7.57515173e-05, 7.49309265e-05, 7.42332732e-05, 7.31760201e-05,\n",
       "       7.30081526e-05, 7.25448153e-05, 7.22446811e-05, 7.17543752e-05,\n",
       "       7.12784494e-05, 6.95487883e-05, 6.91951187e-05, 6.85545873e-05,\n",
       "       6.78617549e-05, 6.70218240e-05, 6.64953450e-05, 6.58433865e-05,\n",
       "       6.50054685e-05, 6.38837828e-05, 6.29081344e-05, 6.26693521e-05,\n",
       "       6.13135178e-05, 6.07608686e-05, 6.02728272e-05, 5.94850515e-05,\n",
       "       5.87997056e-05, 5.82619606e-05, 5.77536736e-05, 5.75026597e-05,\n",
       "       5.62728232e-05, 5.60929317e-05, 5.49943468e-05, 5.44626534e-05,\n",
       "       5.39581719e-05, 5.38260803e-05, 5.31310281e-05, 5.27592102e-05,\n",
       "       5.21973100e-05, 5.13744317e-05, 5.12553126e-05, 5.06478383e-05,\n",
       "       5.00844177e-05, 4.93501955e-05, 4.92647947e-05, 4.82612708e-05,\n",
       "       4.72140977e-05, 4.68473649e-05, 4.61151761e-05, 4.59442191e-05,\n",
       "       4.55818624e-05, 4.43711934e-05, 4.36168913e-05, 4.29144876e-05,\n",
       "       4.26011409e-05, 4.24296094e-05, 4.18206054e-05, 4.11144641e-05,\n",
       "       4.04988438e-05, 4.04029594e-05, 4.01015274e-05, 3.83703745e-05,\n",
       "       3.79170304e-05, 3.76753121e-05, 3.74813570e-05, 3.72080430e-05,\n",
       "       3.64897111e-05, 3.60866387e-05, 3.53090549e-05, 3.51349536e-05,\n",
       "       3.47655497e-05, 3.44335233e-05, 3.40203237e-05, 3.37243003e-05,\n",
       "       3.32093564e-05, 3.31208467e-05, 3.21412705e-05, 3.15566243e-05,\n",
       "       3.12964929e-05, 3.08217792e-05, 3.01572208e-05, 2.98200940e-05,\n",
       "       2.94476550e-05, 2.90894814e-05, 2.88892248e-05, 2.84426321e-05,\n",
       "       2.82594076e-05, 2.78967823e-05, 2.68922180e-05, 2.66827861e-05,\n",
       "       2.56238145e-05, 2.55681319e-05, 2.54091853e-05, 2.48281586e-05,\n",
       "       2.47355902e-05, 2.43807400e-05, 2.42382680e-05, 2.40330977e-05,\n",
       "       2.36180668e-05, 2.30583790e-05, 2.26794263e-05, 2.23684088e-05,\n",
       "       2.17724416e-05, 2.13798456e-05, 2.12153679e-05, 2.11152854e-05,\n",
       "       2.07851172e-05, 2.06477626e-05, 2.03117057e-05, 1.99614129e-05,\n",
       "       1.97835385e-05, 1.94761131e-05, 1.89066352e-05, 1.88458128e-05,\n",
       "       1.85580652e-05, 1.81787242e-05, 1.78865726e-05, 1.77108085e-05,\n",
       "       1.74304017e-05, 1.72514805e-05, 1.61139955e-05, 1.58081384e-05,\n",
       "       1.56945648e-05, 1.56593373e-05, 1.52931470e-05, 1.51817393e-05,\n",
       "       1.50089148e-05, 1.47441220e-05, 1.44596323e-05, 1.43003593e-05,\n",
       "       1.42052714e-05, 1.38929736e-05, 1.38569022e-05, 1.36791660e-05,\n",
       "       1.34103769e-05, 1.32478815e-05, 1.31665557e-05, 1.25216577e-05,\n",
       "       1.23306897e-05, 1.23143056e-05, 1.22392185e-05, 1.18470995e-05,\n",
       "       1.16582089e-05, 1.16300724e-05, 1.15909253e-05, 1.14678450e-05,\n",
       "       1.10729133e-05, 1.09294401e-05, 1.06581560e-05, 1.04485923e-05,\n",
       "       1.03734264e-05, 1.03039169e-05, 9.85828293e-06, 9.49977979e-06,\n",
       "       9.29870702e-06, 9.18567847e-06, 9.06529763e-06, 8.97446419e-06,\n",
       "       8.91525355e-06, 8.57253818e-06, 8.51033741e-06, 8.18911115e-06,\n",
       "       8.00253458e-06, 7.90484671e-06, 7.71865758e-06, 7.67024080e-06,\n",
       "       7.44964443e-06, 7.39801923e-06, 7.27733058e-06, 7.05396957e-06,\n",
       "       6.93978440e-06, 6.68594350e-06, 6.62761346e-06, 6.47609424e-06,\n",
       "       6.44052795e-06, 6.08193709e-06, 6.02389863e-06, 5.83558228e-06,\n",
       "       5.66293660e-06, 5.53890794e-06, 5.43930825e-06, 5.33622499e-06,\n",
       "       5.20355108e-06, 5.17964590e-06, 5.10443954e-06, 5.00824157e-06,\n",
       "       4.92763488e-06, 4.80114108e-06, 4.75510301e-06, 4.53930170e-06,\n",
       "       4.35932679e-06, 4.28365458e-06, 4.21179602e-06, 4.04870947e-06,\n",
       "       3.99717942e-06, 3.97306836e-06, 3.83255918e-06, 3.81301603e-06,\n",
       "       3.77969020e-06, 3.55692331e-06, 3.40942146e-06, 3.37260841e-06,\n",
       "       3.26669849e-06, 3.12204702e-06, 3.04952023e-06, 3.03881292e-06,\n",
       "       2.98708906e-06, 2.83049255e-06, 2.70911629e-06, 2.66480551e-06,\n",
       "       2.61840024e-06, 2.60619222e-06, 2.54442560e-06, 2.51639178e-06,\n",
       "       2.44946063e-06, 2.36887034e-06, 2.31100440e-06, 2.26502791e-06,\n",
       "       2.23470204e-06, 2.19711710e-06, 2.13734280e-06, 2.05838450e-06,\n",
       "       1.94994618e-06, 1.87678350e-06, 1.78273495e-06, 1.76236299e-06,\n",
       "       1.75750490e-06, 1.65331239e-06, 1.60778556e-06, 1.59117332e-06,\n",
       "       1.57452615e-06, 1.48016712e-06, 1.43458910e-06, 1.39282403e-06,\n",
       "       1.38289913e-06, 1.28228842e-06, 1.27857777e-06, 1.23930942e-06,\n",
       "       1.20641201e-06, 1.18137630e-06, 1.13585335e-06, 1.08274212e-06,\n",
       "       1.06559794e-06, 1.00410298e-06, 9.46188614e-07, 9.21884750e-07,\n",
       "       8.72395784e-07, 8.61663770e-07, 8.36293489e-07, 8.27512338e-07,\n",
       "       7.99545480e-07, 7.82822304e-07, 7.65897330e-07, 7.18126792e-07,\n",
       "       6.98537214e-07, 6.95459660e-07, 6.91682829e-07, 6.53324249e-07,\n",
       "       6.38094022e-07, 6.20802128e-07, 6.00107597e-07, 5.54533139e-07,\n",
       "       5.44160769e-07, 5.19432084e-07, 5.11079815e-07, 4.95744841e-07,\n",
       "       4.90011066e-07, 4.81912032e-07, 3.79703221e-07, 3.72190443e-07,\n",
       "       3.62763214e-07, 3.52954381e-07, 3.23837840e-07, 3.23511964e-07,\n",
       "       3.17446979e-07, 3.06885792e-07, 3.00230515e-07, 2.81547407e-07,\n",
       "       2.48534247e-07, 2.45784501e-07, 2.33911869e-07, 2.30243100e-07,\n",
       "       2.19018717e-07, 2.05624555e-07, 1.97663263e-07, 1.89810489e-07,\n",
       "       1.89405730e-07, 1.86077809e-07, 1.75320734e-07, 1.70914908e-07,\n",
       "       1.65198969e-07, 1.12310192e-07, 1.09654469e-07, 9.06587795e-08,\n",
       "       8.72785660e-08, 7.50262391e-08, 7.48048733e-08, 6.89133157e-08,\n",
       "       6.81449434e-08, 5.14838724e-08, 4.80326922e-08, 4.60969153e-08,\n",
       "       4.27106616e-08, 3.94060178e-08, 3.80199097e-08, 3.23771252e-08,\n",
       "       2.35171960e-08, 2.21403398e-08, 2.06834620e-08, 1.97134213e-08,\n",
       "       1.93395216e-08, 1.76272370e-08, 1.70960746e-08, 1.51962633e-08,\n",
       "       1.31700356e-08, 1.18156375e-08, 9.80662761e-09, 7.42553028e-09,\n",
       "       7.07545401e-09, 5.75569441e-09, 3.81252053e-09, 3.30953194e-09,\n",
       "       2.01269723e-09, 1.85705367e-09, 8.67397773e-10, 1.62308331e-10,\n",
       "       1.06413966e-10, 8.86919537e-11, 1.75779111e-11, 1.60149185e-11,\n",
       "       1.92609483e-32, 9.15690385e-34, 9.15690385e-34, 9.15690385e-34,\n",
       "       9.15690385e-34, 9.15690385e-34, 9.15690385e-34, 9.15690385e-34,\n",
       "       9.15690385e-34, 9.15690385e-34, 9.15690385e-34, 9.15690385e-34,\n",
       "       9.15690385e-34, 9.15690385e-34, 9.15690385e-34, 9.15690385e-34,\n",
       "       9.15690385e-34, 9.15690385e-34, 9.15690385e-34, 9.15690385e-34,\n",
       "       9.15690385e-34, 9.15690385e-34, 9.15690385e-34, 9.15690385e-34,\n",
       "       9.15690385e-34, 9.15690385e-34, 9.15690385e-34, 9.15690385e-34,\n",
       "       9.15690385e-34, 9.15690385e-34, 9.15690385e-34, 9.15690385e-34,\n",
       "       9.15690385e-34, 9.15690385e-34, 9.15690385e-34, 9.15690385e-34,\n",
       "       9.15690385e-34, 9.15690385e-34, 9.15690385e-34, 9.15690385e-34,\n",
       "       9.15690385e-34, 9.15690385e-34, 9.15690385e-34, 9.15690385e-34,\n",
       "       9.15690385e-34, 9.15690385e-34, 9.15690385e-34, 9.15690385e-34,\n",
       "       9.15690385e-34, 9.15690385e-34, 9.15690385e-34, 9.15690385e-34,\n",
       "       9.15690385e-34, 9.15690385e-34, 9.15690385e-34, 9.15690385e-34,\n",
       "       9.15690385e-34, 9.15690385e-34, 9.15690385e-34, 9.15690385e-34,\n",
       "       9.15690385e-34, 9.15690385e-34, 9.15690385e-34, 9.15690385e-34,\n",
       "       9.15690385e-34, 9.15690385e-34, 9.15690385e-34, 9.15690385e-34,\n",
       "       9.15690385e-34, 9.15690385e-34, 9.15690385e-34, 9.15690385e-34,\n",
       "       9.15690385e-34, 9.15690385e-34, 9.15690385e-34, 9.15690385e-34,\n",
       "       9.15690385e-34, 9.15690385e-34, 9.15690385e-34, 3.01914344e-35])"
      ]
     },
     "execution_count": 22,
     "metadata": {},
     "output_type": "execute_result"
    }
   ],
   "source": [
    "pca.explained_variance_ratio_"
   ]
  },
  {
   "cell_type": "code",
   "execution_count": 35,
   "metadata": {},
   "outputs": [
    {
     "data": {
      "image/png": "[encoded data removed]",
      "text/plain": [
       "<Figure size 864x576 with 1 Axes>"
      ]
     },
     "metadata": {},
     "output_type": "display_data"
    }
   ],
   "source": [
    "#Making the screeplot - plotting the cumulative variance against the number of components\n",
    "%matplotlib inline\n",
    "fig = plt.figure(figsize = (12,8))\n",
    "plt.plot(np.cumsum(pca.explained_variance_ratio_))\n",
    "plt.grid(True, which = 'both')\n",
    "plt.xlabel('number of components')\n",
    "plt.ylabel('cumulative explained variance')\n",
    "plt.show()"
   ]
  },
  {
   "cell_type": "code",
   "execution_count": 36,
   "metadata": {},
   "outputs": [
    {
     "data": {
      "text/plain": [
       "(42000, 59)"
      ]
     },
     "execution_count": 36,
     "metadata": {},
     "output_type": "execute_result"
    }
   ],
   "source": [
    "pca = PCA(n_components= 0.85)\n",
    "X = pca.fit_transform(X)\n",
    "X.shape"
   ]
  },
  {
   "cell_type": "code",
   "execution_count": 41,
   "metadata": {},
   "outputs": [
    {
     "data": {
      "text/plain": [
       "(42000, 59)"
      ]
     },
     "execution_count": 41,
     "metadata": {},
     "output_type": "execute_result"
    }
   ],
   "source": [
    "    # standardise all parameters\n",
    "from sklearn.preprocessing import StandardScaler\n",
    "standard_scaler = StandardScaler()\n",
    "X = standard_scaler.fit_transform(X)\n",
    "X.shape"
   ]
  },
  {
   "cell_type": "code",
   "execution_count": 44,
   "metadata": {},
   "outputs": [],
   "source": [
    "# Splitting the data into train and test\n",
    "from sklearn.model_selection import train_test_split\n",
    "X_train, X_test, y_train, y_test = train_test_split(X,Y, train_size=0.8,test_size=0.2,random_state=100)"
   ]
  },
  {
   "cell_type": "code",
   "execution_count": 19,
   "metadata": {},
   "outputs": [],
   "source": [
    "    # standardise all parameters\n",
    "from sklearn.preprocessing import StandardScaler\n",
    "standard_scaler = StandardScaler()\n",
    "df_norm = standard_scaler.fit_transform(X_train)"
   ]
  },
  {
   "cell_type": "code",
   "execution_count": 16,
   "metadata": {},
   "outputs": [
    {
     "ename": "KeyboardInterrupt",
     "evalue": "",
     "output_type": "error",
     "traceback": [
      "\u001b[1;31m---------------------------------------------------------------------------\u001b[0m",
      "\u001b[1;31mKeyboardInterrupt\u001b[0m                         Traceback (most recent call last)",
      "\u001b[1;32m<ipython-input-16-b9030e39caa8>\u001b[0m in \u001b[0;36m<module>\u001b[1;34m()\u001b[0m\n\u001b[0;32m      2\u001b[0m \u001b[1;32mfrom\u001b[0m \u001b[0msklearn\u001b[0m\u001b[1;33m.\u001b[0m\u001b[0msvm\u001b[0m \u001b[1;32mimport\u001b[0m \u001b[0mSVC\u001b[0m\u001b[1;33m\u001b[0m\u001b[0m\n\u001b[0;32m      3\u001b[0m \u001b[0mmodel_linear\u001b[0m \u001b[1;33m=\u001b[0m \u001b[0mSVC\u001b[0m\u001b[1;33m(\u001b[0m\u001b[0mkernel\u001b[0m\u001b[1;33m=\u001b[0m\u001b[1;34m'linear'\u001b[0m\u001b[1;33m)\u001b[0m\u001b[1;33m\u001b[0m\u001b[0m\n\u001b[1;32m----> 4\u001b[1;33m \u001b[0mmodel_linear\u001b[0m\u001b[1;33m.\u001b[0m\u001b[0mfit\u001b[0m\u001b[1;33m(\u001b[0m\u001b[0mX_train\u001b[0m\u001b[1;33m,\u001b[0m \u001b[0my_train\u001b[0m\u001b[1;33m)\u001b[0m\u001b[1;33m\u001b[0m\u001b[0m\n\u001b[0m",
      "\u001b[1;32mC:\\ProgramData\\Anaconda3\\lib\\site-packages\\sklearn\\svm\\base.py\u001b[0m in \u001b[0;36mfit\u001b[1;34m(self, X, y, sample_weight)\u001b[0m\n\u001b[0;32m    185\u001b[0m \u001b[1;33m\u001b[0m\u001b[0m\n\u001b[0;32m    186\u001b[0m         \u001b[0mseed\u001b[0m \u001b[1;33m=\u001b[0m \u001b[0mrnd\u001b[0m\u001b[1;33m.\u001b[0m\u001b[0mrandint\u001b[0m\u001b[1;33m(\u001b[0m\u001b[0mnp\u001b[0m\u001b[1;33m.\u001b[0m\u001b[0miinfo\u001b[0m\u001b[1;33m(\u001b[0m\u001b[1;34m'i'\u001b[0m\u001b[1;33m)\u001b[0m\u001b[1;33m.\u001b[0m\u001b[0mmax\u001b[0m\u001b[1;33m)\u001b[0m\u001b[1;33m\u001b[0m\u001b[0m\n\u001b[1;32m--> 187\u001b[1;33m         \u001b[0mfit\u001b[0m\u001b[1;33m(\u001b[0m\u001b[0mX\u001b[0m\u001b[1;33m,\u001b[0m \u001b[0my\u001b[0m\u001b[1;33m,\u001b[0m \u001b[0msample_weight\u001b[0m\u001b[1;33m,\u001b[0m \u001b[0msolver_type\u001b[0m\u001b[1;33m,\u001b[0m \u001b[0mkernel\u001b[0m\u001b[1;33m,\u001b[0m \u001b[0mrandom_seed\u001b[0m\u001b[1;33m=\u001b[0m\u001b[0mseed\u001b[0m\u001b[1;33m)\u001b[0m\u001b[1;33m\u001b[0m\u001b[0m\n\u001b[0m\u001b[0;32m    188\u001b[0m         \u001b[1;31m# see comment on the other call to np.iinfo in this file\u001b[0m\u001b[1;33m\u001b[0m\u001b[1;33m\u001b[0m\u001b[0m\n\u001b[0;32m    189\u001b[0m \u001b[1;33m\u001b[0m\u001b[0m\n",
      "\u001b[1;32mC:\\ProgramData\\Anaconda3\\lib\\site-packages\\sklearn\\svm\\base.py\u001b[0m in \u001b[0;36m_dense_fit\u001b[1;34m(self, X, y, sample_weight, solver_type, kernel, random_seed)\u001b[0m\n\u001b[0;32m    252\u001b[0m                 \u001b[0mcache_size\u001b[0m\u001b[1;33m=\u001b[0m\u001b[0mself\u001b[0m\u001b[1;33m.\u001b[0m\u001b[0mcache_size\u001b[0m\u001b[1;33m,\u001b[0m \u001b[0mcoef0\u001b[0m\u001b[1;33m=\u001b[0m\u001b[0mself\u001b[0m\u001b[1;33m.\u001b[0m\u001b[0mcoef0\u001b[0m\u001b[1;33m,\u001b[0m\u001b[1;33m\u001b[0m\u001b[0m\n\u001b[0;32m    253\u001b[0m                 \u001b[0mgamma\u001b[0m\u001b[1;33m=\u001b[0m\u001b[0mself\u001b[0m\u001b[1;33m.\u001b[0m\u001b[0m_gamma\u001b[0m\u001b[1;33m,\u001b[0m \u001b[0mepsilon\u001b[0m\u001b[1;33m=\u001b[0m\u001b[0mself\u001b[0m\u001b[1;33m.\u001b[0m\u001b[0mepsilon\u001b[0m\u001b[1;33m,\u001b[0m\u001b[1;33m\u001b[0m\u001b[0m\n\u001b[1;32m--> 254\u001b[1;33m                 max_iter=self.max_iter, random_seed=random_seed)\n\u001b[0m\u001b[0;32m    255\u001b[0m \u001b[1;33m\u001b[0m\u001b[0m\n\u001b[0;32m    256\u001b[0m         \u001b[0mself\u001b[0m\u001b[1;33m.\u001b[0m\u001b[0m_warn_from_fit_status\u001b[0m\u001b[1;33m(\u001b[0m\u001b[1;33m)\u001b[0m\u001b[1;33m\u001b[0m\u001b[0m\n",
      "\u001b[1;31mKeyboardInterrupt\u001b[0m: "
     ]
    }
   ],
   "source": [
    "# linear model\n",
    "from sklearn.svm import SVC\n",
    "model_linear = SVC(kernel='linear')\n",
    "model_linear.fit(X_train, y_train)\n"
   ]
  },
  {
   "cell_type": "code",
   "execution_count": 43,
   "metadata": {},
   "outputs": [],
   "source": [
    "# predict\n",
    "y_pred = model_linear.predict(X_test)"
   ]
  },
  {
   "cell_type": "code",
   "execution_count": 44,
   "metadata": {},
   "outputs": [
    {
     "name": "stdout",
     "output_type": "stream",
     "text": [
      "accuracy: 0.8928571428571429 \n",
      "\n",
      "[[119   1   0   1   0   3   2   2   0   0]\n",
      " [  0 115   0   0   0   0   0   0   0   0]\n",
      " [  1   0 103   0   2   0   1   1   3   0]\n",
      " [  0   1   3 125   0   9   0   2   3   2]\n",
      " [  1   0   0   0 101   2   1   2   0   6]\n",
      " [  1   0   4   4   0 104   3   0   4   2]\n",
      " [  2   1   6   0   3   1 114   0   1   0]\n",
      " [  1   3   3   2   0   0   0 135   0   4]\n",
      " [  0   1   7   7   2   1   0   0 102   1]\n",
      " [  0   1   1   5   8   1   0   3   3 107]]\n"
     ]
    }
   ],
   "source": [
    "# confusion matrix and accuracy\n",
    "from sklearn import metrics\n",
    "from sklearn.metrics import confusion_matrix\n",
    "# accuracy\n",
    "print(\"accuracy:\", metrics.accuracy_score(y_true=y_test, y_pred=y_pred), \"\\n\")\n",
    "\n",
    "# cm\n",
    "print(metrics.confusion_matrix(y_true=y_test, y_pred=y_pred))"
   ]
  },
  {
   "cell_type": "code",
   "execution_count": 45,
   "metadata": {},
   "outputs": [
    {
     "data": {
      "text/plain": [
       "SVC(C=1.0, cache_size=200, class_weight=None, coef0=0.0,\n",
       "  decision_function_shape='ovr', degree=3, gamma='auto', kernel='rbf',\n",
       "  max_iter=-1, probability=False, random_state=None, shrinking=True,\n",
       "  tol=0.001, verbose=False)"
      ]
     },
     "execution_count": 45,
     "metadata": {},
     "output_type": "execute_result"
    }
   ],
   "source": [
    "# non-linear model\n",
    "# using rbf kernel, C=1, default value of gamma\n",
    "\n",
    "# model\n",
    "non_linear_model = SVC(kernel='rbf')\n",
    "\n",
    "# fit\n",
    "non_linear_model.fit(X_train, y_train)\n"
   ]
  },
  {
   "cell_type": "code",
   "execution_count": 46,
   "metadata": {},
   "outputs": [],
   "source": [
    "# predict\n",
    "y_pred = non_linear_model.predict(X_test)"
   ]
  },
  {
   "cell_type": "code",
   "execution_count": 47,
   "metadata": {},
   "outputs": [
    {
     "name": "stdout",
     "output_type": "stream",
     "text": [
      "accuracy: 0.942063492063492 \n",
      "\n",
      "[[122   0   1   1   0   0   3   0   1   0]\n",
      " [  0 113   0   1   0   0   0   1   0   0]\n",
      " [  1   0 106   0   1   0   1   1   1   0]\n",
      " [  0   1   3 131   0   5   0   2   2   1]\n",
      " [  0   0   0   0 104   0   2   0   1   6]\n",
      " [  0   0   0   1   0 118   3   0   0   0]\n",
      " [  1   0   1   0   1   1 123   0   1   0]\n",
      " [  0   2   2   1   1   0   0 137   0   5]\n",
      " [  0   1   1   1   1   0   0   0 117   0]\n",
      " [  0   0   1   4   5   1   0   1   1 116]]\n"
     ]
    }
   ],
   "source": [
    "# confusion matrix and accuracy\n",
    "\n",
    "# accuracy\n",
    "print(\"accuracy:\", metrics.accuracy_score(y_true=y_test, y_pred=y_pred), \"\\n\")\n",
    "\n",
    "# cm\n",
    "print(metrics.confusion_matrix(y_true=y_test, y_pred=y_pred))"
   ]
  },
  {
   "cell_type": "code",
   "execution_count": 48,
   "metadata": {},
   "outputs": [
    {
     "name": "stdout",
     "output_type": "stream",
     "text": [
      "Fitting 4 folds for each of 9 candidates, totalling 36 fits\n"
     ]
    },
    {
     "name": "stderr",
     "output_type": "stream",
     "text": [
      "[Parallel(n_jobs=-1)]: Done  36 out of  36 | elapsed:  1.2min finished\n"
     ]
    },
    {
     "data": {
      "text/plain": [
       "GridSearchCV(cv=KFold(n_splits=4, random_state=101, shuffle=True),\n",
       "       error_score='raise',\n",
       "       estimator=SVC(C=1.0, cache_size=200, class_weight=None, coef0=0.0,\n",
       "  decision_function_shape='ovr', degree=3, gamma='auto', kernel='rbf',\n",
       "  max_iter=-1, probability=False, random_state=None, shrinking=True,\n",
       "  tol=0.001, verbose=False),\n",
       "       fit_params=None, iid=True, n_jobs=-1,\n",
       "       param_grid=[{'gamma': [0.01, 0.001, 0.0001], 'C': [1, 0.01, 100]}],\n",
       "       pre_dispatch='2*n_jobs', refit=True, return_train_score=True,\n",
       "       scoring='accuracy', verbose=1)"
      ]
     },
     "execution_count": 48,
     "metadata": {},
     "output_type": "execute_result"
    }
   ],
   "source": [
    "from sklearn.model_selection import KFold\n",
    "from sklearn.model_selection import cross_val_score\n",
    "from sklearn.model_selection import GridSearchCV\n",
    "# creating a KFold object with 5 splits \n",
    "folds = KFold(n_splits = 4, shuffle = True, random_state = 101)\n",
    "\n",
    "# specify range of hyperparameters\n",
    "# Set the parameters by cross-validation\n",
    "hyper_params = [ {'gamma': [1e-2, 1e-3, 1e-4],\n",
    "                     'C': [1, .01, 100]}]\n",
    "\n",
    "\n",
    "# specify model\n",
    "model = SVC(kernel=\"rbf\")\n",
    "\n",
    "# set up GridSearchCV()\n",
    "model_cv = GridSearchCV(estimator = model, \n",
    "                        param_grid = hyper_params, \n",
    "                        scoring= 'accuracy', \n",
    "                        cv = folds, \n",
    "                        verbose = 1,\n",
    "                        n_jobs=-1,\n",
    "                        return_train_score=True)      \n",
    "\n",
    "# fit the model\n",
    "model_cv.fit(X_train, y_train)                  \n"
   ]
  },
  {
   "cell_type": "code",
   "execution_count": 49,
   "metadata": {},
   "outputs": [
    {
     "data": {
      "text/html": [
       "<div>\n",
       "<style scoped>\n",
       "    .dataframe tbody tr th:only-of-type {\n",
       "        vertical-align: middle;\n",
       "    }\n",
       "\n",
       "    .dataframe tbody tr th {\n",
       "        vertical-align: top;\n",
       "    }\n",
       "\n",
       "    .dataframe thead th {\n",
       "        text-align: right;\n",
       "    }\n",
       "</style>\n",
       "<table border=\"1\" class=\"dataframe\">\n",
       "  <thead>\n",
       "    <tr style=\"text-align: right;\">\n",
       "      <th></th>\n",
       "      <th>mean_fit_time</th>\n",
       "      <th>std_fit_time</th>\n",
       "      <th>mean_score_time</th>\n",
       "      <th>std_score_time</th>\n",
       "      <th>param_C</th>\n",
       "      <th>param_gamma</th>\n",
       "      <th>params</th>\n",
       "      <th>split0_test_score</th>\n",
       "      <th>split1_test_score</th>\n",
       "      <th>split2_test_score</th>\n",
       "      <th>split3_test_score</th>\n",
       "      <th>mean_test_score</th>\n",
       "      <th>std_test_score</th>\n",
       "      <th>rank_test_score</th>\n",
       "      <th>split0_train_score</th>\n",
       "      <th>split1_train_score</th>\n",
       "      <th>split2_train_score</th>\n",
       "      <th>split3_train_score</th>\n",
       "      <th>mean_train_score</th>\n",
       "      <th>std_train_score</th>\n",
       "    </tr>\n",
       "  </thead>\n",
       "  <tbody>\n",
       "    <tr>\n",
       "      <th>0</th>\n",
       "      <td>1.323744</td>\n",
       "      <td>0.241878</td>\n",
       "      <td>0.355297</td>\n",
       "      <td>0.041193</td>\n",
       "      <td>1</td>\n",
       "      <td>0.01</td>\n",
       "      <td>{'C': 1, 'gamma': 0.01}</td>\n",
       "      <td>0.937302</td>\n",
       "      <td>0.944444</td>\n",
       "      <td>0.938095</td>\n",
       "      <td>0.934127</td>\n",
       "      <td>0.938492</td>\n",
       "      <td>0.003744</td>\n",
       "      <td>2</td>\n",
       "      <td>0.979101</td>\n",
       "      <td>0.980423</td>\n",
       "      <td>0.979101</td>\n",
       "      <td>0.983333</td>\n",
       "      <td>0.980489</td>\n",
       "      <td>0.001728</td>\n",
       "    </tr>\n",
       "    <tr>\n",
       "      <th>1</th>\n",
       "      <td>2.372891</td>\n",
       "      <td>0.105951</td>\n",
       "      <td>0.708846</td>\n",
       "      <td>0.078408</td>\n",
       "      <td>1</td>\n",
       "      <td>0.001</td>\n",
       "      <td>{'C': 1, 'gamma': 0.001}</td>\n",
       "      <td>0.876984</td>\n",
       "      <td>0.892857</td>\n",
       "      <td>0.896032</td>\n",
       "      <td>0.887302</td>\n",
       "      <td>0.888294</td>\n",
       "      <td>0.007239</td>\n",
       "      <td>5</td>\n",
       "      <td>0.907407</td>\n",
       "      <td>0.903175</td>\n",
       "      <td>0.903968</td>\n",
       "      <td>0.906349</td>\n",
       "      <td>0.905225</td>\n",
       "      <td>0.001718</td>\n",
       "    </tr>\n",
       "    <tr>\n",
       "      <th>2</th>\n",
       "      <td>4.777264</td>\n",
       "      <td>0.172634</td>\n",
       "      <td>0.815036</td>\n",
       "      <td>0.059168</td>\n",
       "      <td>1</td>\n",
       "      <td>0.0001</td>\n",
       "      <td>{'C': 1, 'gamma': 0.0001}</td>\n",
       "      <td>0.400794</td>\n",
       "      <td>0.322222</td>\n",
       "      <td>0.292063</td>\n",
       "      <td>0.349206</td>\n",
       "      <td>0.341071</td>\n",
       "      <td>0.039969</td>\n",
       "      <td>6</td>\n",
       "      <td>0.436243</td>\n",
       "      <td>0.347354</td>\n",
       "      <td>0.315344</td>\n",
       "      <td>0.359788</td>\n",
       "      <td>0.364683</td>\n",
       "      <td>0.044383</td>\n",
       "    </tr>\n",
       "    <tr>\n",
       "      <th>3</th>\n",
       "      <td>5.405655</td>\n",
       "      <td>0.789177</td>\n",
       "      <td>1.211555</td>\n",
       "      <td>0.306897</td>\n",
       "      <td>0.01</td>\n",
       "      <td>0.01</td>\n",
       "      <td>{'C': 0.01, 'gamma': 0.01}</td>\n",
       "      <td>0.124603</td>\n",
       "      <td>0.115079</td>\n",
       "      <td>0.111111</td>\n",
       "      <td>0.119048</td>\n",
       "      <td>0.117460</td>\n",
       "      <td>0.004988</td>\n",
       "      <td>7</td>\n",
       "      <td>0.115079</td>\n",
       "      <td>0.117989</td>\n",
       "      <td>0.119312</td>\n",
       "      <td>0.116667</td>\n",
       "      <td>0.117262</td>\n",
       "      <td>0.001569</td>\n",
       "    </tr>\n",
       "    <tr>\n",
       "      <th>4</th>\n",
       "      <td>4.961910</td>\n",
       "      <td>0.133578</td>\n",
       "      <td>0.825528</td>\n",
       "      <td>0.025501</td>\n",
       "      <td>0.01</td>\n",
       "      <td>0.001</td>\n",
       "      <td>{'C': 0.01, 'gamma': 0.001}</td>\n",
       "      <td>0.123810</td>\n",
       "      <td>0.115079</td>\n",
       "      <td>0.111111</td>\n",
       "      <td>0.119048</td>\n",
       "      <td>0.117262</td>\n",
       "      <td>0.004708</td>\n",
       "      <td>8</td>\n",
       "      <td>0.115079</td>\n",
       "      <td>0.117989</td>\n",
       "      <td>0.119312</td>\n",
       "      <td>0.116667</td>\n",
       "      <td>0.117262</td>\n",
       "      <td>0.001569</td>\n",
       "    </tr>\n",
       "    <tr>\n",
       "      <th>5</th>\n",
       "      <td>4.854470</td>\n",
       "      <td>0.081021</td>\n",
       "      <td>0.905983</td>\n",
       "      <td>0.018864</td>\n",
       "      <td>0.01</td>\n",
       "      <td>0.0001</td>\n",
       "      <td>{'C': 0.01, 'gamma': 0.0001}</td>\n",
       "      <td>0.123810</td>\n",
       "      <td>0.115079</td>\n",
       "      <td>0.111111</td>\n",
       "      <td>0.119048</td>\n",
       "      <td>0.117262</td>\n",
       "      <td>0.004708</td>\n",
       "      <td>8</td>\n",
       "      <td>0.115079</td>\n",
       "      <td>0.117989</td>\n",
       "      <td>0.119312</td>\n",
       "      <td>0.116667</td>\n",
       "      <td>0.117262</td>\n",
       "      <td>0.001569</td>\n",
       "    </tr>\n",
       "    <tr>\n",
       "      <th>6</th>\n",
       "      <td>1.588091</td>\n",
       "      <td>0.010262</td>\n",
       "      <td>0.468481</td>\n",
       "      <td>0.061750</td>\n",
       "      <td>100</td>\n",
       "      <td>0.01</td>\n",
       "      <td>{'C': 100, 'gamma': 0.01}</td>\n",
       "      <td>0.944444</td>\n",
       "      <td>0.953968</td>\n",
       "      <td>0.948413</td>\n",
       "      <td>0.943651</td>\n",
       "      <td>0.947619</td>\n",
       "      <td>0.004086</td>\n",
       "      <td>1</td>\n",
       "      <td>1.000000</td>\n",
       "      <td>1.000000</td>\n",
       "      <td>1.000000</td>\n",
       "      <td>1.000000</td>\n",
       "      <td>1.000000</td>\n",
       "      <td>0.000000</td>\n",
       "    </tr>\n",
       "    <tr>\n",
       "      <th>7</th>\n",
       "      <td>1.007673</td>\n",
       "      <td>0.007115</td>\n",
       "      <td>0.253106</td>\n",
       "      <td>0.006054</td>\n",
       "      <td>100</td>\n",
       "      <td>0.001</td>\n",
       "      <td>{'C': 100, 'gamma': 0.001}</td>\n",
       "      <td>0.927778</td>\n",
       "      <td>0.918254</td>\n",
       "      <td>0.928571</td>\n",
       "      <td>0.925397</td>\n",
       "      <td>0.925000</td>\n",
       "      <td>0.004066</td>\n",
       "      <td>3</td>\n",
       "      <td>0.991005</td>\n",
       "      <td>0.989683</td>\n",
       "      <td>0.987302</td>\n",
       "      <td>0.992593</td>\n",
       "      <td>0.990146</td>\n",
       "      <td>0.001938</td>\n",
       "    </tr>\n",
       "    <tr>\n",
       "      <th>8</th>\n",
       "      <td>1.118864</td>\n",
       "      <td>0.051411</td>\n",
       "      <td>0.307075</td>\n",
       "      <td>0.056903</td>\n",
       "      <td>100</td>\n",
       "      <td>0.0001</td>\n",
       "      <td>{'C': 100, 'gamma': 0.0001}</td>\n",
       "      <td>0.912698</td>\n",
       "      <td>0.919841</td>\n",
       "      <td>0.922222</td>\n",
       "      <td>0.904762</td>\n",
       "      <td>0.914881</td>\n",
       "      <td>0.006813</td>\n",
       "      <td>4</td>\n",
       "      <td>0.938360</td>\n",
       "      <td>0.941005</td>\n",
       "      <td>0.944180</td>\n",
       "      <td>0.941534</td>\n",
       "      <td>0.941270</td>\n",
       "      <td>0.002066</td>\n",
       "    </tr>\n",
       "  </tbody>\n",
       "</table>\n",
       "</div>"
      ],
      "text/plain": [
       "   mean_fit_time  std_fit_time  mean_score_time  std_score_time param_C  \\\n",
       "0       1.323744      0.241878         0.355297        0.041193       1   \n",
       "1       2.372891      0.105951         0.708846        0.078408       1   \n",
       "2       4.777264      0.172634         0.815036        0.059168       1   \n",
       "3       5.405655      0.789177         1.211555        0.306897    0.01   \n",
       "4       4.961910      0.133578         0.825528        0.025501    0.01   \n",
       "5       4.854470      0.081021         0.905983        0.018864    0.01   \n",
       "6       1.588091      0.010262         0.468481        0.061750     100   \n",
       "7       1.007673      0.007115         0.253106        0.006054     100   \n",
       "8       1.118864      0.051411         0.307075        0.056903     100   \n",
       "\n",
       "  param_gamma                        params  split0_test_score  \\\n",
       "0        0.01       {'C': 1, 'gamma': 0.01}           0.937302   \n",
       "1       0.001      {'C': 1, 'gamma': 0.001}           0.876984   \n",
       "2      0.0001     {'C': 1, 'gamma': 0.0001}           0.400794   \n",
       "3        0.01    {'C': 0.01, 'gamma': 0.01}           0.124603   \n",
       "4       0.001   {'C': 0.01, 'gamma': 0.001}           0.123810   \n",
       "5      0.0001  {'C': 0.01, 'gamma': 0.0001}           0.123810   \n",
       "6        0.01     {'C': 100, 'gamma': 0.01}           0.944444   \n",
       "7       0.001    {'C': 100, 'gamma': 0.001}           0.927778   \n",
       "8      0.0001   {'C': 100, 'gamma': 0.0001}           0.912698   \n",
       "\n",
       "   split1_test_score  split2_test_score  split3_test_score  mean_test_score  \\\n",
       "0           0.944444           0.938095           0.934127         0.938492   \n",
       "1           0.892857           0.896032           0.887302         0.888294   \n",
       "2           0.322222           0.292063           0.349206         0.341071   \n",
       "3           0.115079           0.111111           0.119048         0.117460   \n",
       "4           0.115079           0.111111           0.119048         0.117262   \n",
       "5           0.115079           0.111111           0.119048         0.117262   \n",
       "6           0.953968           0.948413           0.943651         0.947619   \n",
       "7           0.918254           0.928571           0.925397         0.925000   \n",
       "8           0.919841           0.922222           0.904762         0.914881   \n",
       "\n",
       "   std_test_score  rank_test_score  split0_train_score  split1_train_score  \\\n",
       "0        0.003744                2            0.979101            0.980423   \n",
       "1        0.007239                5            0.907407            0.903175   \n",
       "2        0.039969                6            0.436243            0.347354   \n",
       "3        0.004988                7            0.115079            0.117989   \n",
       "4        0.004708                8            0.115079            0.117989   \n",
       "5        0.004708                8            0.115079            0.117989   \n",
       "6        0.004086                1            1.000000            1.000000   \n",
       "7        0.004066                3            0.991005            0.989683   \n",
       "8        0.006813                4            0.938360            0.941005   \n",
       "\n",
       "   split2_train_score  split3_train_score  mean_train_score  std_train_score  \n",
       "0            0.979101            0.983333          0.980489         0.001728  \n",
       "1            0.903968            0.906349          0.905225         0.001718  \n",
       "2            0.315344            0.359788          0.364683         0.044383  \n",
       "3            0.119312            0.116667          0.117262         0.001569  \n",
       "4            0.119312            0.116667          0.117262         0.001569  \n",
       "5            0.119312            0.116667          0.117262         0.001569  \n",
       "6            1.000000            1.000000          1.000000         0.000000  \n",
       "7            0.987302            0.992593          0.990146         0.001938  \n",
       "8            0.944180            0.941534          0.941270         0.002066  "
      ]
     },
     "execution_count": 49,
     "metadata": {},
     "output_type": "execute_result"
    }
   ],
   "source": [
    "# cv results\n",
    "cv_results = pd.DataFrame(model_cv.cv_results_)\n",
    "cv_results"
   ]
  },
  {
   "cell_type": "code",
   "execution_count": 50,
   "metadata": {},
   "outputs": [
    {
     "data": {
      "image/png": "[encoded data removed]",
      "text/plain": [
       "<Figure size 1152x432 with 3 Axes>"
      ]
     },
     "metadata": {},
     "output_type": "display_data"
    }
   ],
   "source": [
    "# converting C to numeric type for plotting on x-axis\n",
    "cv_results['param_C'] = cv_results['param_C'].astype('int')\n",
    "\n",
    "# # plotting\n",
    "plt.figure(figsize=(16,6))\n",
    "\n",
    "# subplot 1/3\n",
    "plt.subplot(131)\n",
    "gamma_01 = cv_results[cv_results['param_gamma']==0.01]\n",
    "\n",
    "plt.plot(gamma_01[\"param_C\"], gamma_01[\"mean_test_score\"])\n",
    "plt.plot(gamma_01[\"param_C\"], gamma_01[\"mean_train_score\"])\n",
    "plt.xlabel('C')\n",
    "plt.ylabel('Accuracy')\n",
    "plt.title(\"Gamma=0.01\")\n",
    "plt.ylim([0.60, 1])\n",
    "plt.legend(['test accuracy', 'train accuracy'], loc='upper left')\n",
    "plt.xscale('log')\n",
    "\n",
    "# subplot 2/3\n",
    "plt.subplot(132)\n",
    "gamma_001 = cv_results[cv_results['param_gamma']==0.001]\n",
    "\n",
    "plt.plot(gamma_001[\"param_C\"], gamma_001[\"mean_test_score\"])\n",
    "plt.plot(gamma_001[\"param_C\"], gamma_001[\"mean_train_score\"])\n",
    "plt.xlabel('C')\n",
    "plt.ylabel('Accuracy')\n",
    "plt.title(\"Gamma=0.001\")\n",
    "plt.ylim([0.60, 1])\n",
    "plt.legend(['test accuracy', 'train accuracy'], loc='upper left')\n",
    "plt.xscale('log')\n",
    "\n",
    "\n",
    "# subplot 3/3\n",
    "plt.subplot(133)\n",
    "gamma_0001 = cv_results[cv_results['param_gamma']==0.0001]\n",
    "\n",
    "plt.plot(gamma_0001[\"param_C\"], gamma_0001[\"mean_test_score\"])\n",
    "plt.plot(gamma_0001[\"param_C\"], gamma_0001[\"mean_train_score\"])\n",
    "plt.xlabel('C')\n",
    "plt.ylabel('Accuracy')\n",
    "plt.title(\"Gamma=0.0001\")\n",
    "plt.ylim([0.60, 1])\n",
    "plt.legend(['test accuracy', 'train accuracy'], loc='upper left')\n",
    "plt.xscale('log')\n"
   ]
  },
  {
   "cell_type": "code",
   "execution_count": 51,
   "metadata": {},
   "outputs": [
    {
     "name": "stdout",
     "output_type": "stream",
     "text": [
      "The best test score is 0.9476190476190476 corresponding to hyperparameters {'C': 100, 'gamma': 0.01}\n"
     ]
    }
   ],
   "source": [
    "# printing the optimal accuracy score and hyperparameters\n",
    "best_score = model_cv.best_score_\n",
    "best_hyperparams = model_cv.best_params_\n",
    "\n",
    "print(\"The best test score is {0} corresponding to hyperparameters {1}\".format(best_score, best_hyperparams))"
   ]
  },
  {
   "cell_type": "code",
   "execution_count": 52,
   "metadata": {},
   "outputs": [
    {
     "name": "stdout",
     "output_type": "stream",
     "text": [
      "accuracy 0.9492063492063492 \n",
      "\n",
      "[[122   0   1   1   0   0   3   0   1   0]\n",
      " [  0 114   0   0   0   0   0   1   0   0]\n",
      " [  0   0 106   1   1   0   1   1   1   0]\n",
      " [  0   1   3 134   0   2   0   2   2   1]\n",
      " [  0   0   0   0 105   0   2   1   0   5]\n",
      " [  0   0   0   1   0 118   3   0   0   0]\n",
      " [  1   0   0   0   1   1 124   0   1   0]\n",
      " [  0   2   2   1   2   0   0 140   0   1]\n",
      " [  0   1   1   3   1   0   0   0 115   0]\n",
      " [  0   0   1   4   4   0   0   1   1 118]] \n",
      "\n"
     ]
    }
   ],
   "source": [
    "# model with optimal hyperparameters\n",
    "\n",
    "# model\n",
    "model = SVC(C=100, gamma=0.01, kernel=\"rbf\")\n",
    "\n",
    "model.fit(X_train, y_train)\n",
    "y_pred = model.predict(X_test)\n",
    "\n",
    "# metrics\n",
    "print(\"accuracy\", metrics.accuracy_score(y_test, y_pred), \"\\n\")\n",
    "print(metrics.confusion_matrix(y_test, y_pred), \"\\n\")\n",
    "\n"
   ]
  },
  {
   "cell_type": "code",
   "execution_count": 40,
   "metadata": {},
   "outputs": [
    {
     "data": {
      "text/plain": [
       "(28000, 59)"
      ]
     },
     "execution_count": 40,
     "metadata": {},
     "output_type": "execute_result"
    }
   ],
   "source": [
    "test_pca = pca.transform(test)\n",
    "test_pca.shape"
   ]
  },
  {
   "cell_type": "code",
   "execution_count": 42,
   "metadata": {},
   "outputs": [],
   "source": [
    "test_scaled = standard_scaler.transform(test_pca)"
   ]
  },
  {
   "cell_type": "code",
   "execution_count": 43,
   "metadata": {},
   "outputs": [
    {
     "data": {
      "text/plain": [
       "(28000, 59)"
      ]
     },
     "execution_count": 43,
     "metadata": {},
     "output_type": "execute_result"
    }
   ],
   "source": [
    "test_scaled.shape"
   ]
  },
  {
   "cell_type": "code",
   "execution_count": 45,
   "metadata": {},
   "outputs": [
    {
     "data": {
      "text/plain": [
       "SVC(C=100, cache_size=200, class_weight=None, coef0=0.0,\n",
       "  decision_function_shape='ovr', degree=3, gamma=0.01, kernel='rbf',\n",
       "  max_iter=-1, probability=False, random_state=None, shrinking=True,\n",
       "  tol=0.001, verbose=False)"
      ]
     },
     "execution_count": 45,
     "metadata": {},
     "output_type": "execute_result"
    }
   ],
   "source": [
    "model = SVC(C=100, gamma=0.01, kernel=\"rbf\")\n",
    "\n",
    "model.fit(X_train, y_train)"
   ]
  },
  {
   "cell_type": "code",
   "execution_count": 48,
   "metadata": {},
   "outputs": [],
   "source": [
    "pred_probs_test2 = model.predict(test_scaled)\n",
    "#\"{:2.2f}\".format(metrics.roc_auc_score(test, pred_probs_test2))"
   ]
  },
  {
   "cell_type": "code",
   "execution_count": 51,
   "metadata": {},
   "outputs": [],
   "source": [
    "image_id = np.arange(1,pred_probs_test2.shape[0]+1)"
   ]
  },
  {
   "cell_type": "code",
   "execution_count": 53,
   "metadata": {},
   "outputs": [],
   "source": [
    "pd.DataFrame({\"ImageId\": image_id, \"Label\": pred_probs_test2}).to_csv('out_svm.csv', \n",
    "                                                                      index=False, header=True)"
   ]
  },
  {
   "cell_type": "code",
   "execution_count": null,
   "metadata": {},
   "outputs": [],
   "source": []
  }
 ],
 "metadata": {
  "kernelspec": {
   "display_name": "Python 3",
   "language": "python",
   "name": "python3"
  },
  "language_info": {
   "codemirror_mode": {
    "name": "ipython",
    "version": 3
   },
   "file_extension": ".py",
   "mimetype": "text/x-python",
   "name": "python",
   "nbconvert_exporter": "python",
   "pygments_lexer": "ipython3",
   "version": "3.6.5"
  }
 },
 "nbformat": 4,
 "nbformat_minor": 2
}
